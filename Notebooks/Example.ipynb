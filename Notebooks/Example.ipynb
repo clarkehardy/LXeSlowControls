{
 "cells": [
  {
   "cell_type": "markdown",
   "metadata": {},
   "source": [
    "### Import packages"
   ]
  },
  {
   "cell_type": "code",
   "execution_count": 1,
   "metadata": {},
   "outputs": [],
   "source": [
    "import numpy as np\n",
    "import matplotlib.pyplot as plt\n",
    "import yaml\n",
    "import sys\n",
    "from pathlib import Path\n",
    "import datetime\n",
    "import os\n",
    "sys.path.append('../ReadLogFiles/')\n",
    "from SlowControls import SlowControls"
   ]
  },
  {
   "cell_type": "markdown",
   "metadata": {},
   "source": [
    "### Create lists of datasets and column maps"
   ]
  },
  {
   "cell_type": "code",
   "execution_count": 2,
   "metadata": {},
   "outputs": [
    {
     "name": "stdout",
     "output_type": "stream",
     "text": [
      "../LogFiles/LS_20220318_133442.dat\n",
      "../LogFiles/LS_20220318_133558.dat\n",
      "../LogFiles/LS_20220318_134451.dat\n",
      "../LogFiles/LS_20220321_115015.dat\n",
      "../LogFiles/LS_20220321_132314.dat\n",
      "../LogFiles/LS_20220321_132639.dat\n",
      "../LogFiles/LS_20220321_134149.dat\n",
      "../LogFiles/LS_20220321_140108.dat\n",
      "../LogFiles/LS_20220321_140304.dat\n",
      "../LogFiles/LS_20220321_140610.dat\n",
      "../LogFiles/LS_20220321_175512.dat\n",
      "../LogFiles/LS_20220322_112305.dat\n",
      "../LogFiles/LS_20220322_114143.dat\n",
      "../LogFiles/LS_20220322_120139.dat\n",
      "../LogFiles/LS_20220322_140351.dat\n",
      "../LogFiles/LS_20220322_143424.dat\n"
     ]
    }
   ],
   "source": [
    "# define the folder containing slow controls data files and sort the files\n",
    "dirpath = '../LogFiles/'\n",
    "\n",
    "# best to put files in order they were written in case the column map changed at one point\n",
    "paths = sorted(Path(dirpath).iterdir(), key=os.path.getmtime)\n",
    "datasets = []\n",
    "for path in paths:\n",
    "    if str(path)[-4:]=='.dat':\n",
    "        print(str(path))\n",
    "        datasets.append(str(path))\n",
    "\n",
    "# open column maps\n",
    "with open('../ColumnMaps/colmap_v1.yml','r') as infile:\n",
    "    colmap_v1 = yaml.safe_load(infile)\n",
    "    \n",
    "with open('../ColumnMaps/colmap_v2.yml','r') as infile:\n",
    "    colmap_v2 = yaml.safe_load(infile)"
   ]
  },
  {
   "cell_type": "markdown",
   "metadata": {},
   "source": [
    "### Create `SlowControls` object to store data"
   ]
  },
  {
   "cell_type": "code",
   "execution_count": 3,
   "metadata": {},
   "outputs": [
    {
     "name": "stdout",
     "output_type": "stream",
     "text": [
      "\n",
      "Opening dataset in ../LogFiles/LS_20220318_133442.dat...\n"
     ]
    },
    {
     "name": "stderr",
     "output_type": "stream",
     "text": [
      "Processing lines...: 12it [00:00, 543.13it/s]\n"
     ]
    },
    {
     "name": "stdout",
     "output_type": "stream",
     "text": [
      "\n",
      "Opening dataset in ../LogFiles/LS_20220318_133558.dat...\n"
     ]
    },
    {
     "name": "stderr",
     "output_type": "stream",
     "text": [
      "Processing lines...: 85it [00:00, 537.73it/s]\n"
     ]
    },
    {
     "name": "stdout",
     "output_type": "stream",
     "text": [
      "\n",
      "Opening dataset in ../LogFiles/LS_20220318_134451.dat...\n"
     ]
    },
    {
     "name": "stderr",
     "output_type": "stream",
     "text": [
      "Processing lines...: 66it [00:00, 567.57it/s]\n"
     ]
    },
    {
     "name": "stdout",
     "output_type": "stream",
     "text": [
      "\n",
      "Opening dataset in ../LogFiles/LS_20220321_115015.dat...\n"
     ]
    },
    {
     "name": "stderr",
     "output_type": "stream",
     "text": [
      "Processing lines...: 105it [00:00, 372.97it/s]\n"
     ]
    },
    {
     "name": "stdout",
     "output_type": "stream",
     "text": [
      "\n",
      "Opening dataset in ../LogFiles/LS_20220321_132314.dat...\n"
     ]
    },
    {
     "name": "stderr",
     "output_type": "stream",
     "text": [
      "Processing lines...: 28it [00:00, 494.53it/s]\n"
     ]
    },
    {
     "name": "stdout",
     "output_type": "stream",
     "text": [
      "\n",
      "Opening dataset in ../LogFiles/LS_20220321_132639.dat...\n"
     ]
    },
    {
     "name": "stderr",
     "output_type": "stream",
     "text": [
      "Processing lines...: 49it [00:00, 638.45it/s]\n"
     ]
    },
    {
     "name": "stdout",
     "output_type": "stream",
     "text": [
      "\n",
      "Opening dataset in ../LogFiles/LS_20220321_134149.dat...\n"
     ]
    },
    {
     "name": "stderr",
     "output_type": "stream",
     "text": [
      "Processing lines...: 9it [00:00, 283.01it/s]\n"
     ]
    },
    {
     "name": "stdout",
     "output_type": "stream",
     "text": [
      "\n",
      "Opening dataset in ../LogFiles/LS_20220321_140108.dat...\n"
     ]
    },
    {
     "name": "stderr",
     "output_type": "stream",
     "text": [
      "Processing lines...: 20it [00:00, 322.22it/s]\n"
     ]
    },
    {
     "name": "stdout",
     "output_type": "stream",
     "text": [
      "\n",
      "Opening dataset in ../LogFiles/LS_20220321_140304.dat...\n"
     ]
    },
    {
     "name": "stderr",
     "output_type": "stream",
     "text": [
      "Processing lines...: 28it [00:00, 602.37it/s]\n"
     ]
    },
    {
     "name": "stdout",
     "output_type": "stream",
     "text": [
      "\n",
      "Opening dataset in ../LogFiles/LS_20220321_140610.dat...\n"
     ]
    },
    {
     "name": "stderr",
     "output_type": "stream",
     "text": [
      "Processing lines...: 226it [00:00, 595.33it/s]\n"
     ]
    },
    {
     "name": "stdout",
     "output_type": "stream",
     "text": [
      "\n",
      "Opening dataset in ../LogFiles/LS_20220321_175512.dat...\n"
     ]
    },
    {
     "name": "stderr",
     "output_type": "stream",
     "text": [
      "Processing lines...: 6232it [00:08, 723.38it/s]\n"
     ]
    },
    {
     "name": "stdout",
     "output_type": "stream",
     "text": [
      "\n",
      "Opening dataset in ../LogFiles/LS_20220322_112305.dat...\n"
     ]
    },
    {
     "name": "stderr",
     "output_type": "stream",
     "text": [
      "Processing lines...: 273it [00:00, 842.85it/s]\n"
     ]
    },
    {
     "name": "stdout",
     "output_type": "stream",
     "text": [
      "\n",
      "Opening dataset in ../LogFiles/LS_20220322_114143.dat...\n"
     ]
    },
    {
     "name": "stderr",
     "output_type": "stream",
     "text": [
      "Processing lines...: 262it [00:00, 673.17it/s]\n"
     ]
    },
    {
     "name": "stdout",
     "output_type": "stream",
     "text": [
      "\n",
      "Opening dataset in ../LogFiles/LS_20220322_120139.dat...\n"
     ]
    },
    {
     "name": "stderr",
     "output_type": "stream",
     "text": [
      "Processing lines...: 10it [00:00, 467.16it/s]\n"
     ]
    },
    {
     "name": "stdout",
     "output_type": "stream",
     "text": [
      "\n",
      "Opening dataset in ../LogFiles/LS_20220322_140351.dat...\n"
     ]
    },
    {
     "name": "stderr",
     "output_type": "stream",
     "text": [
      "Processing lines...: 39it [00:00, 811.72it/s]\n"
     ]
    },
    {
     "name": "stdout",
     "output_type": "stream",
     "text": [
      "\n",
      "Opening dataset in ../LogFiles/LS_20220322_143424.dat...\n"
     ]
    },
    {
     "name": "stderr",
     "output_type": "stream",
     "text": [
      "Processing lines...: 0it [00:00, ?it/s]\n"
     ]
    },
    {
     "name": "stdout",
     "output_type": "stream",
     "text": [
      "Warning: file ../LogFiles/LS_20220322_143424.dat has 46 columns, but\n",
      "previous file ../LogFiles/LS_20220322_140351.dat had 44 columns.\n",
      "These should be loaded separately with separate column maps. Aborting...\n",
      "\n",
      "Found 7444 readings between 03/18/2022 13:34:42 and 03/22/2022 14:10:42.\n",
      "\n",
      "Sorting by date...\n",
      "\n",
      "Created pandas dataframe containing slow controls data.\n",
      "\n",
      "Time: 11.642 seconds.\n",
      "\n",
      "Dataframe saved to dataframe.pkl\n"
     ]
    }
   ],
   "source": [
    "SC = SlowControls(datasets,indices=colmap_v1['indices'],labels=colmap_v1['labels'])\n",
    "\n",
    "# save it so we don't have to reload it next time\n",
    "SC.SaveDataframe('dataframe.pkl')\n",
    "\n",
    "# try reloading it to verify it works, then delete it\n",
    "#SC = SlowControls()\n",
    "#SC.LoadDataframe('dataframe.pkl')\n",
    "#SC.PrintHead()"
   ]
  },
  {
   "cell_type": "markdown",
   "metadata": {},
   "source": [
    "### Take a look at what data is available"
   ]
  },
  {
   "cell_type": "code",
   "execution_count": 4,
   "metadata": {},
   "outputs": [
    {
     "name": "stdout",
     "output_type": "stream",
     "text": [
      "index: 0, quantity: date\n",
      "index: 1, quantity: T_Cu_bottom\n",
      "index: 2, quantity: T_cell_top\n",
      "index: 3, quantity: T_cell_mid\n",
      "index: 4, quantity: T_cell_bottom\n",
      "index: 5, quantity: T_Cu_top\n",
      "index: 6, quantity: T_ambient\n",
      "index: 7, quantity: T_in\n",
      "index: 8, quantity: T_top_flange\n",
      "index: 10, quantity: T_set_min\n",
      "index: 11, quantity: T_set_max\n",
      "index: 21, quantity: mass_flow\n",
      "index: 22, quantity: P_XP3\n",
      "index: 23, quantity: P_XP5\n",
      "index: 24, quantity: P_CCG\n",
      "index: 35, quantity: cool_on\n",
      "index: 38, quantity: water_flow\n",
      "index: 39, quantity: coi_in_temp\n",
      "index: 40, quantity: water_temp\n",
      "index: 41, quantity: fridge_CT\n",
      "index: 42, quantity: discharge_pressure\n",
      "index: 43, quantity: suction_pressure\n",
      "\n",
      "           date  T_Cu_bottom  T_cell_top  T_cell_mid  T_cell_bottom  T_Cu_top  \\\n",
      "1  1.647636e+09      292.229     292.374     292.090            0.0   292.051   \n",
      "1  1.647636e+09      292.233     292.345     292.090            0.0   292.044   \n",
      "1  1.647636e+09      292.229     292.350     292.086            0.0   292.044   \n",
      "1  1.647636e+09      292.224     292.345     292.100            0.0   292.057   \n",
      "1  1.647636e+09      292.231     292.354     292.097            0.0   292.056   \n",
      "\n",
      "   T_ambient     T_in  T_top_flange  T_set_min  ...  P_XP3  P_XP5  \\\n",
      "1        0.0  291.984       291.529      155.0  ... -1.266  1.149   \n",
      "1        0.0  291.972       291.535      155.0  ...  1.305  1.149   \n",
      "1        0.0  291.985       291.534      155.0  ... -3.836  1.149   \n",
      "1        0.0  291.984       291.534      155.0  ...  3.876  3.719   \n",
      "1        0.0  291.987       291.538      155.0  ...  1.305  1.149   \n",
      "\n",
      "          P_CCG  cool_on  water_flow  coi_in_temp  water_temp  fridge_CT  \\\n",
      "1  1.810000e-07      0.0         1.0        -17.4       -31.1        0.0   \n",
      "1  1.810000e-07      0.0         1.0        -17.4       -31.1      143.6   \n",
      "1  1.850000e-07      0.0         1.0          0.0        30.6      143.6   \n",
      "1  1.890000e-07      0.0         1.0          0.0         0.6      143.8   \n",
      "1  1.810000e-07      0.0         1.0          0.0         0.6      143.8   \n",
      "\n",
      "   discharge_pressure  suction_pressure  \n",
      "1               143.6              17.9  \n",
      "1               182.5              17.9  \n",
      "1               196.5              17.2  \n",
      "1               201.6              16.6  \n",
      "1               177.4              17.2  \n",
      "\n",
      "[5 rows x 22 columns]\n"
     ]
    }
   ],
   "source": [
    "SC.PrintDataFormat()\n",
    "SC.PrintHead()"
   ]
  },
  {
   "cell_type": "markdown",
   "metadata": {},
   "source": [
    "### Demostration of some tools for making quick plots"
   ]
  },
  {
   "cell_type": "code",
   "execution_count": 5,
   "metadata": {},
   "outputs": [
    {
     "data": {
      "text/plain": [
       "(<Figure size 432x288 with 1 Axes>,\n",
       " <AxesSubplot:title={'center':'CCG pressure'}, xlabel='Time (hours)', ylabel='P (torr)'>)"
      ]
     },
     "execution_count": 5,
     "metadata": {},
     "output_type": "execute_result"
    },
    {
     "data": {
      "image/png": "[encoded data removed]",
      "text/plain": [
       "<Figure size 432x288 with 1 Axes>"
      ]
     },
     "metadata": {
      "needs_background": "light"
     },
     "output_type": "display_data"
    },
    {
     "data": {
      "image/png": "[encoded data removed]",
      "text/plain": [
       "<Figure size 432x288 with 1 Axes>"
      ]
     },
     "metadata": {
      "needs_background": "light"
     },
     "output_type": "display_data"
    }
   ],
   "source": [
    "# choose start and end dates for plotting\n",
    "# can either be lists of dates to plot over multiple intervals\n",
    "# or just a single start and end date\n",
    "start_date = [datetime.datetime(2022,3,21,12),datetime.datetime(2022,3,21,18)]\n",
    "end_date = [datetime.datetime(2022,3,21,20),datetime.datetime(2022,3,22,0)]\n",
    "\n",
    "# can also just use the whole date range\n",
    "start_date2,end_date2 = SC.GetTimeBounds()\n",
    "\n",
    "# plot vs calendar date\n",
    "SC.PlotVsDate(['T_Cu_top','T_cell_mid'],start_date,end_date,\\\n",
    "              labels=['First interval','Second interval'],\\\n",
    "              title='Sample plot',ylabel='Temperature (K)')\n",
    "\n",
    "# or plot vs start time\n",
    "SC.PlotVsTime('P_CCG',start_date2,end_date2,title='CCG pressure',ylabel='P (torr)',semilogy=True)"
   ]
  },
  {
   "cell_type": "markdown",
   "metadata": {},
   "source": [
    "### Can also get data as arrays for more freedom with plotting"
   ]
  },
  {
   "cell_type": "code",
   "execution_count": 11,
   "metadata": {},
   "outputs": [
    {
     "data": {
      "image/png": "[encoded data removed]",
      "text/plain": [
       "<Figure size 432x288 with 1 Axes>"
      ]
     },
     "metadata": {
      "needs_background": "light"
     },
     "output_type": "display_data"
    }
   ],
   "source": [
    "# get data in arrays\n",
    "P_CCG = SC.GetQuantityArray('P_CCG',start_date2,end_date2)\n",
    "dates = SC.GetHoursArray(start_date2,end_date2)\n",
    "\n",
    "# make a plot using arrays\n",
    "plt.semilogy(dates,P_CCG,color='teal',lw=2,label='Large system CCG')\n",
    "plt.xlabel('Hours since starting')\n",
    "plt.ylabel('Pressure (torr)')\n",
    "plt.title('Cold cathode pressure')\n",
    "plt.xlim([60,100])\n",
    "plt.legend(loc='best')\n",
    "plt.show()"
   ]
  },
  {
   "cell_type": "code",
   "execution_count": null,
   "metadata": {},
   "outputs": [],
   "source": []
  }
 ],
 "metadata": {
  "kernelspec": {
   "display_name": "nexo-env",
   "language": "python",
   "name": "nexo-env"
  },
  "language_info": {
   "codemirror_mode": {
    "name": "ipython",
    "version": 3
   },
   "file_extension": ".py",
   "mimetype": "text/x-python",
   "name": "python",
   "nbconvert_exporter": "python",
   "pygments_lexer": "ipython3",
   "version": "3.7.6"
  }
 },
 "nbformat": 4,
 "nbformat_minor": 4
}
